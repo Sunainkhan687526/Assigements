{
 "cells": [
  {
   "cell_type": "markdown",
   "id": "877a5594-f765-4d5a-bbe6-6eeddbb762da",
   "metadata": {},
   "source": [
    "# Looping Structures"
   ]
  },
  {
   "cell_type": "markdown",
   "id": "cd74a9d7-49cc-4536-b9ff-4c7442523a2b",
   "metadata": {},
   "source": [
    "1. Write a Python program to print the numbers from 1 to 10 using a for loop."
   ]
  },
  {
   "cell_type": "code",
   "execution_count": 5,
   "id": "b220f5c0-1a48-4866-b66d-b3fecebd30b0",
   "metadata": {},
   "outputs": [
    {
     "name": "stdout",
     "output_type": "stream",
     "text": [
      "1\n",
      "2\n",
      "3\n",
      "4\n",
      "5\n",
      "6\n",
      "7\n",
      "8\n",
      "9\n",
      "10\n"
     ]
    }
   ],
   "source": [
    "\n",
    "for i in range(1, 10+1):\n",
    "    print(i)"
   ]
  },
  {
   "cell_type": "markdown",
   "id": "3e91fd14-f115-45cb-a707-728d8462a981",
   "metadata": {},
   "source": [
    "2. Write a Python program to print the numbers from 20 to 1 using a while loop.\n"
   ]
  },
  {
   "cell_type": "code",
   "execution_count": 6,
   "id": "5ce1bf01-68fd-4216-b723-96f463649eef",
   "metadata": {},
   "outputs": [
    {
     "name": "stdout",
     "output_type": "stream",
     "text": [
      "20\n",
      "19\n",
      "18\n",
      "17\n",
      "16\n",
      "15\n",
      "14\n",
      "13\n",
      "12\n",
      "11\n",
      "10\n",
      "9\n",
      "8\n",
      "7\n",
      "6\n",
      "5\n",
      "4\n",
      "3\n",
      "2\n",
      "1\n"
     ]
    }
   ],
   "source": [
    "i = 20\n",
    "while i > 0:\n",
    "    print(i)\n",
    "    i -=1\n",
    "  "
   ]
  },
  {
   "cell_type": "markdown",
   "id": "47e7e0e0-dece-4275-8dd2-4323fd51d61b",
   "metadata": {},
   "source": [
    "3. Write a program to print even numbers from 1 to 10. \n"
   ]
  },
  {
   "cell_type": "code",
   "execution_count": 11,
   "id": "1b54d0a6-23fc-49bf-93d2-898053d3e17e",
   "metadata": {},
   "outputs": [
    {
     "name": "stdout",
     "output_type": "stream",
     "text": [
      "2\n",
      "4\n",
      "6\n",
      "8\n",
      "10\n"
     ]
    }
   ],
   "source": [
    "for i in range(1, 10+1):\n",
    "    if i % 2 == 0:\n",
    "        print(i)"
   ]
  },
  {
   "cell_type": "markdown",
   "id": "70bdcf69-d50d-4ba0-8b63-70dd4a198f8a",
   "metadata": {},
   "source": [
    "4. Write a program that prompts the user to enter a number n and prints all the\n",
    "numbers from 1 to n. "
   ]
  },
  {
   "cell_type": "code",
   "execution_count": 2,
   "id": "22e9ae56-5e47-45f5-bef2-4cd28bfda259",
   "metadata": {},
   "outputs": [
    {
     "name": "stdin",
     "output_type": "stream",
     "text": [
      "Enter any Number  10\n"
     ]
    },
    {
     "name": "stdout",
     "output_type": "stream",
     "text": [
      "0\n",
      "1\n",
      "2\n",
      "3\n",
      "4\n",
      "5\n",
      "6\n",
      "7\n",
      "8\n",
      "9\n",
      "10\n"
     ]
    }
   ],
   "source": [
    "n = int(input(\"Enter any Number \"))\n",
    "for i in range(0, n + 1):\n",
    "    print(i)"
   ]
  },
  {
   "cell_type": "markdown",
   "id": "032d5ff4-5e73-4cea-8722-b89f65e7abce",
   "metadata": {},
   "source": [
    "5. Write a program that prompts the user to enter a number n, and then prints all the\n",
    "odd numbers between 1 and n. \n"
   ]
  },
  {
   "cell_type": "code",
   "execution_count": 2,
   "id": "d4661228-fd5e-4b38-a76b-4b57139d22d7",
   "metadata": {},
   "outputs": [
    {
     "name": "stdin",
     "output_type": "stream",
     "text": [
      "Enter any Number 10\n"
     ]
    },
    {
     "name": "stdout",
     "output_type": "stream",
     "text": [
      "All odd numbers\n",
      "1\n",
      "3\n",
      "5\n",
      "7\n",
      "9\n"
     ]
    }
   ],
   "source": [
    "n = int(input(\"Enter any Number\"))\n",
    "print(\"All odd numbers\")\n",
    "for i in range(0, n , 1):\n",
    "    if i % 2 != 0:\n",
    "        print(i)"
   ]
  },
  {
   "cell_type": "markdown",
   "id": "28865783-a0be-4279-b596-2738f7b7d8e7",
   "metadata": {},
   "source": [
    "6. Write a program that prints 'Happy Birthday!' five times on screen."
   ]
  },
  {
   "cell_type": "code",
   "execution_count": 3,
   "id": "3bafdad7-443b-4bcc-8869-5cc6fe60b59d",
   "metadata": {},
   "outputs": [
    {
     "name": "stdout",
     "output_type": "stream",
     "text": [
      "Happy Birthday\n",
      "Happy Birthday\n",
      "Happy Birthday\n",
      "Happy Birthday\n",
      "Happy Birthday\n"
     ]
    }
   ],
   "source": [
    "for i in range(5):\n",
    "    print(\"Happy Birthday\")"
   ]
  },
  {
   "cell_type": "markdown",
   "id": "800ab6ef-47c8-4197-83a3-5ff8aad6acf5",
   "metadata": {},
   "source": [
    "7. Write a program that takes a number n as input from the user and generates the first\n",
    "n terms of the series formed by squaring the natural numbers.\n",
    "- Sample output\n",
    "1. Enter a number: 6\n",
    "2. The first 6 terms of the series are:\n",
    "3. 1 4 9 16 25 36 \n"
   ]
  },
  {
   "cell_type": "code",
   "execution_count": 6,
   "id": "4569047b-18c4-4205-825a-35969958d68c",
   "metadata": {},
   "outputs": [
    {
     "name": "stdin",
     "output_type": "stream",
     "text": [
      "Enter any Number 6\n"
     ]
    },
    {
     "name": "stdout",
     "output_type": "stream",
     "text": [
      "1\n",
      "4\n",
      "9\n",
      "16\n",
      "25\n",
      "36\n"
     ]
    }
   ],
   "source": [
    "n = int(input(\"Enter any Number\"))\n",
    "for i in range(1, n +1):\n",
    "    print(i*i)"
   ]
  },
  {
   "cell_type": "markdown",
   "id": "d67622db-b5f2-4d5b-bcd8-8d6f048ea79d",
   "metadata": {},
   "source": [
    "8. Write a program that prompts the user to input a number and prints its multiplication\n",
    "table. \n"
   ]
  },
  {
   "cell_type": "code",
   "execution_count": 7,
   "id": "161ac680-f282-45e3-9665-51b37d4bb4e1",
   "metadata": {},
   "outputs": [
    {
     "name": "stdin",
     "output_type": "stream",
     "text": [
      "Enter a table number 2\n"
     ]
    },
    {
     "name": "stdout",
     "output_type": "stream",
     "text": [
      "2 x 1 = 2\n",
      "2 x 2 = 4\n",
      "2 x 3 = 6\n",
      "2 x 4 = 8\n",
      "2 x 5 = 10\n",
      "2 x 6 = 12\n",
      "2 x 7 = 14\n",
      "2 x 8 = 16\n",
      "2 x 9 = 18\n",
      "2 x 10 = 20\n"
     ]
    }
   ],
   "source": [
    "\n",
    "n = int(input(\"Enter a table number\"))\n",
    "\n",
    "for i in range(1, 11):\n",
    "    print(n , \"x\" , i , \"=\" , i*n )"
   ]
  },
  {
   "cell_type": "markdown",
   "id": "168bfbdd-e2f4-440f-8f4c-a55e5fb7db2b",
   "metadata": {},
   "source": [
    "9. Write a Python program to print the first 8 terms of an arithmetic progression starting\n",
    "- with 3 and having a common difference of 4.\n",
    "- The program should output the following sequence:\n",
    "- 3 7 11 15 19 23 27 31"
   ]
  },
  {
   "cell_type": "code",
   "execution_count": 8,
   "id": "93cc2e7c-3a3a-4d4d-8688-30c0de29e2e0",
   "metadata": {},
   "outputs": [
    {
     "name": "stdin",
     "output_type": "stream",
     "text": [
      "Enter any number 3\n",
      "Enter any number 3\n"
     ]
    },
    {
     "name": "stdout",
     "output_type": "stream",
     "text": [
      "3\n",
      "6\n",
      "9\n",
      "12\n",
      "15\n",
      "18\n",
      "21\n",
      "24\n"
     ]
    }
   ],
   "source": [
    "n = int(input(\"Enter any number\"))\n",
    "d = int(input(\"Enter any number\"))\n",
    "\n",
    "for i in range(1, 9):\n",
    "    term = n + (i-1) *d\n",
    "    print(term)"
   ]
  },
  {
   "cell_type": "markdown",
   "id": "6f03ea74-3ead-43ee-b607-de5385b25158",
   "metadata": {},
   "source": [
    "10. Write a Python program to print the first 6 terms of a geometric sequence starting\n",
    "- with 2 and having a common ratio of 3.\n",
    "- The program should output the following sequence:\n",
    "- 2 6 18 54 162 486 \n"
   ]
  },
  {
   "cell_type": "code",
   "execution_count": 16,
   "id": "fb898ed6-a4b2-4358-b05c-9df4ecaef856",
   "metadata": {},
   "outputs": [
    {
     "name": "stdin",
     "output_type": "stream",
     "text": [
      "Enter any number 2\n"
     ]
    },
    {
     "name": "stdout",
     "output_type": "stream",
     "text": [
      "3\n",
      "6\n",
      "12\n",
      "24\n",
      "48\n",
      "96\n"
     ]
    }
   ],
   "source": [
    "### n = int(input(\"Enter any number\"))\n",
    "d = int(input(\"Enter any number\"))\n",
    "\n",
    "for i in range(6):\n",
    "    term = n * (d ** i)\n",
    "    print(term)"
   ]
  },
  {
   "cell_type": "markdown",
   "id": "7edc6a79-68c1-4e0b-be7e-676945acefc3",
   "metadata": {},
   "source": [
    "11. Write a program that asks the user for a positive integer value. The program should\n",
    "calculate the sum of all the integers from 1 up to the number entered. For example, if\n",
    "the user enters 20, the loop will find the sum of 1, 2, 3, 4, ... 20. \n"
   ]
  },
  {
   "cell_type": "code",
   "execution_count": 11,
   "id": "8ef98858-71a2-454b-91d4-6e700f005226",
   "metadata": {},
   "outputs": [
    {
     "name": "stdin",
     "output_type": "stream",
     "text": [
      "Enter any Positive Number 20\n"
     ]
    },
    {
     "data": {
      "text/plain": [
       "190"
      ]
     },
     "execution_count": 11,
     "metadata": {},
     "output_type": "execute_result"
    }
   ],
   "source": [
    "user_input = int(input(\"Enter any Positive Number\"))\n",
    "total = 0\n",
    "for i in range(1, user_input, 1):\n",
    "    total += i \n",
    "\n",
    "total"
   ]
  },
  {
   "cell_type": "markdown",
   "id": "b83df11b-be83-4a90-bb8e-ef7322c20dfe",
   "metadata": {},
   "source": [
    "12. write a program that takes a positive integer N as input and calculates the sum of\n",
    "the reciprocals of all numbers from 1 up to N. The program should display the final sum.\n",
    "- Output of the program should be like:\n",
    "- Enter a positive integer: 5\n",
    "- The sum of reciprocals from 1 to 5 is: 2.28"
   ]
  },
  {
   "cell_type": "code",
   "execution_count": 14,
   "id": "86630f88-7f25-4e8c-a742-b5868d9be2e5",
   "metadata": {},
   "outputs": [
    {
     "name": "stdin",
     "output_type": "stream",
     "text": [
      "Enter any positive Number:  5\n"
     ]
    },
    {
     "name": "stdout",
     "output_type": "stream",
     "text": [
      "The Sum of reciprocal from 1 to 5 is 2.283333333333333\n"
     ]
    }
   ],
   "source": [
    "n = int(input(\"Enter any positive Number: \"))\n",
    "total = 0\n",
    "for i in range(1, n+1):\n",
    "    total = total + (1/i)\n",
    "\n",
    "print(f\"The Sum of reciprocal from 1 to {n} is {total}\")"
   ]
  },
  {
   "cell_type": "markdown",
   "id": "20d762b0-4f10-4bf1-a269-bb8da0a0f501",
   "metadata": {},
   "source": [
    "13. Write a program that prompts the user to enter a number and repeats this process 5\n",
    "times. The program should accumulate the numbers entered and then display the final\n",
    "running total.\n",
    "- Sample Output:\n",
    "1. Enter a number: 10\n",
    "2. Enter a number: 15\n",
    "3. Enter a number: 35\n",
    "4. Enter a number: 40\n",
    "5. Enter a number: 50\n",
    "- The final running total is: 150"
   ]
  },
  {
   "cell_type": "code",
   "execution_count": 15,
   "id": "e4e8cea1-88b4-45ef-8095-325e8d82fa3e",
   "metadata": {},
   "outputs": [
    {
     "name": "stdin",
     "output_type": "stream",
     "text": [
      "Enter your first Number:  5\n",
      "Enter your second Number:  3\n",
      "Enter your third Number:  4\n",
      "Enter your fourth Number:  5\n",
      "Enter your fiveth Number:  3\n"
     ]
    },
    {
     "name": "stdout",
     "output_type": "stream",
     "text": [
      "The final rumming is 20\n"
     ]
    }
   ],
   "source": [
    "one = int(input(\"Enter your first Number: \"))\n",
    "two = int(input(\"Enter your second Number: \"))\n",
    "three = int(input(\"Enter your third Number: \"))\n",
    "four  = int(input(\"Enter your fourth Number: \"))\n",
    "five = int(input(\"Enter your fiveth Number: \"))\n",
    "\n",
    "total = one +two+ three + four + five\n",
    "\n",
    "print(\"The final rumming is\", total)"
   ]
  },
  {
   "cell_type": "markdown",
   "id": "da37466c-be01-47f1-b0b4-5cb3ccf2335e",
   "metadata": {},
   "source": [
    "14. Write a program that prompts the user to enter a positive integer and calculates its\n",
    "factorial. The factorial of a positive integer 'n' is denoted as 'n!' and is calculated by\n",
    "multiplying all the integers from 1 to 'n' together. For example, the factorial of 5\n",
    "(denoted as 5!) is calculated as 1 x 2 x 3 x 4 x 5.\n",
    "- The program should display the factorial value if the input is a positive number, or\n",
    "display a message stating that the factorial does not exist for negative numbers.\n",
    "Additionally, for an input of zero, the program should output that the factorial of 0 is 1."
   ]
  },
  {
   "cell_type": "code",
   "execution_count": 22,
   "id": "3d2c9fa7-6591-466d-a057-b3a5c02f5528",
   "metadata": {},
   "outputs": [
    {
     "name": "stdin",
     "output_type": "stream",
     "text": [
      "Enter any posito=ive Number:  5\n"
     ]
    },
    {
     "data": {
      "text/plain": [
       "120"
      ]
     },
     "execution_count": 22,
     "metadata": {},
     "output_type": "execute_result"
    }
   ],
   "source": [
    "N = int(input(\"Enter any posito=ive Number: \"))\n",
    "total = 1\n",
    "for i in range(1, N+1):\n",
    "    if N > 0:\n",
    "        total *= i\n",
    "        \n",
    "    elif N == 0 or N == 1:\n",
    "        print (\"The factorial of 0 and 1 is 1\")\n",
    "    else: \n",
    "        print( \"Factorial does not exist for negative number:\")\n",
    "\n",
    "total"
   ]
  },
  {
   "cell_type": "markdown",
   "id": "902e4f7b-5d1b-4b6c-9e01-85f8c4b6eb38",
   "metadata": {},
   "source": [
    "15. Write a Python program that prompts the user to enter a base number and an\n",
    "exponent, and then calculates the power of the base to the exponent. The program\n",
    "should not use the exponentiation operator (**) or the math.pow() function. The\n",
    "program should handle both positive and negative exponents. "
   ]
  },
  {
   "cell_type": "code",
   "execution_count": 3,
   "id": "4e2e435f-4cec-4606-a5d7-b569a08f8a42",
   "metadata": {},
   "outputs": [
    {
     "name": "stdin",
     "output_type": "stream",
     "text": [
      "Enter a base number:  2\n",
      "Enter an exponential value:  1\n"
     ]
    },
    {
     "name": "stdout",
     "output_type": "stream",
     "text": [
      "Power 1 of base: 2 is = 2\n"
     ]
    }
   ],
   "source": [
    "base_num = int(input(\"Enter a base number: \"))\n",
    "exp_num = int(input(\"Enter an exponential value: \"))\n",
    "result = 1\n",
    "\n",
    "if exp_num > 0:\n",
    "    for i in range(exp_num):\n",
    "        result *= base_num\n",
    "elif exp_num == 0:\n",
    "    print(f\"Power {exp_num} of base: {base_num} is = {result}\")\n",
    "else:\n",
    "    for i in range(-exp_num):\n",
    "        result *= base_num\n",
    "    result = 1 / result\n",
    "    print(f\"The negative power {exp_num} of base: {base_num} is = {result}\")\n",
    "\n",
    "if exp_num > 0:\n",
    "    print(f\"Power {exp_num} of base: {base_num} is = {result}\")\n",
    "    "
   ]
  }
 ],
 "metadata": {
  "kernelspec": {
   "display_name": "Python 3 (ipykernel)",
   "language": "python",
   "name": "python3"
  },
  "language_info": {
   "codemirror_mode": {
    "name": "ipython",
    "version": 3
   },
   "file_extension": ".py",
   "mimetype": "text/x-python",
   "name": "python",
   "nbconvert_exporter": "python",
   "pygments_lexer": "ipython3",
   "version": "3.13.5"
  }
 },
 "nbformat": 4,
 "nbformat_minor": 5
}
