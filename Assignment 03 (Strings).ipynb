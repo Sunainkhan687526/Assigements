{
 "cells": [
  {
   "cell_type": "markdown",
   "id": "407f33f6-817c-42ca-8106-ba39216d9bcb",
   "metadata": {},
   "source": [
    "# Assigment No 3 (String Assigment)"
   ]
  },
  {
   "cell_type": "markdown",
   "id": "5785d0c6-0d96-4ea4-b127-984e19a13f70",
   "metadata": {},
   "source": [
    "1. Write a program that accepts a string from user. Your program should count and display number of vowels in that string."
   ]
  },
  {
   "cell_type": "code",
   "execution_count": 3,
   "id": "d65d9c4f-5b16-4f33-8275-9c2df58d10e3",
   "metadata": {},
   "outputs": [
    {
     "name": "stdin",
     "output_type": "stream",
     "text": [
      "Enter any sentence Sunain khan\n"
     ]
    },
    {
     "name": "stdout",
     "output_type": "stream",
     "text": [
      "4\n"
     ]
    }
   ],
   "source": [
    "string = input(\"Enter any sentence\")\n",
    "count = 0\n",
    "vowels = \"aeiouAEIOU\"\n",
    "for char in string:\n",
    "    if char in vowels:\n",
    "        count +=1\n",
    "\n",
    "print(count)"
   ]
  },
  {
   "cell_type": "markdown",
   "id": "37a13167-914a-427a-b7dd-a70c2974a353",
   "metadata": {},
   "source": [
    "2. Write a program that reads a string from keyboard and display:\n",
    "- The number of uppercase letters in the string.\n",
    "- The number of lowercase letters in the string.\n",
    "- The number of digits in the string.\n",
    "- The number of whitespace characters in the string ."
   ]
  },
  {
   "cell_type": "code",
   "execution_count": 9,
   "id": "5b8ea822-e1e2-4c44-9088-732e986f7291",
   "metadata": {},
   "outputs": [
    {
     "name": "stdin",
     "output_type": "stream",
     "text": [
      "Enter any sentence Hello 2\n"
     ]
    },
    {
     "name": "stdout",
     "output_type": "stream",
     "text": [
      "1\n",
      "4\n",
      "1\n",
      "1\n"
     ]
    }
   ],
   "source": [
    "Upper_case = 0\n",
    "Lower_case = 0\n",
    "Digit = 0\n",
    "White_space = 0\n",
    "sentence = input(\"Enter any sentence\")\n",
    "\n",
    "\n",
    "for char in sentence:\n",
    "    if char.isupper():\n",
    "        Upper_case +=1\n",
    "    elif char.islower():\n",
    "        Lower_case +=1\n",
    "    elif char.isdigit():\n",
    "        Digit += 1\n",
    "    elif char.isspace():\n",
    "        White_space +=1\n",
    "    else:\n",
    "        print(\"Nothing More\")\n",
    "\n",
    "print(Upper_case)\n",
    "print(Lower_case)\n",
    "print(Digit)\n",
    "print(White_space)\n"
   ]
  },
  {
   "cell_type": "markdown",
   "id": "fc04e69c-8d9d-41e2-a7a1-6d2825083e84",
   "metadata": {},
   "source": [
    "3. Write a Python program that accepts a string from user. Your program should create and display a new string where the first and last characters have been exchanged. For example if the user enters the string 'HELLO' then new string would be 'OELLH'\n"
   ]
  },
  {
   "cell_type": "code",
   "execution_count": 12,
   "id": "ce7d917a-aa7b-4393-83ae-246d323cd309",
   "metadata": {},
   "outputs": [
    {
     "name": "stdin",
     "output_type": "stream",
     "text": [
      "Enter Any word Khan\n"
     ]
    },
    {
     "name": "stdout",
     "output_type": "stream",
     "text": [
      "Khan\n",
      "nhaK\n"
     ]
    }
   ],
   "source": [
    "word = input(\"Enter Any word\")\n",
    "first_word = word[0]\n",
    "last_word = word[-1]\n",
    "swapped = last_word + word[1:-1] + first_word\n",
    "print(word)\n",
    "print(swapped)"
   ]
  },
  {
   "cell_type": "markdown",
   "id": "83713d9c-93ff-4b80-9986-47ad5ade289c",
   "metadata": {},
   "source": [
    "4. Write a Python program that accepts a string from user. Your program should create a new string in reverse of first string and display it. For example if the user enters the string 'EXAM' then new string would be 'MAXE'\n"
   ]
  },
  {
   "cell_type": "code",
   "execution_count": 18,
   "id": "a04be9a1-2ecc-42cf-a860-3d56782e47ec",
   "metadata": {},
   "outputs": [
    {
     "name": "stdin",
     "output_type": "stream",
     "text": [
      "Enter Any word Khan\n"
     ]
    },
    {
     "name": "stdout",
     "output_type": "stream",
     "text": [
      "Khan\n",
      "nahK\n"
     ]
    }
   ],
   "source": [
    "word = input(\"Enter Any word\")\n",
    "all_word = word[::-1]\n",
    "print(word)\n",
    "print(all_word)"
   ]
  },
  {
   "cell_type": "markdown",
   "id": "9563bb9f-7845-467f-8240-4bb6685dd3b8",
   "metadata": {},
   "source": [
    "5. Write a Python program that accepts a string from user. Your program should create a new string by shifting one position to left. For example if the user enters the string 'examination 2021' then new string would be 'xamination 2021e'\n"
   ]
  },
  {
   "cell_type": "code",
   "execution_count": 4,
   "id": "bf74ed84-f54d-42cd-853b-53f4b982979f",
   "metadata": {},
   "outputs": [
    {
     "name": "stdin",
     "output_type": "stream",
     "text": [
      "Enter Any word Khan 2004\n"
     ]
    },
    {
     "name": "stdout",
     "output_type": "stream",
     "text": [
      "Khan 2004\n",
      "han 2004K\n"
     ]
    }
   ],
   "source": [
    "word = input(\"Enter Any word\")\n",
    "first_word = word[0]\n",
    "last_word = word[-1]\n",
    "swapped =  word[1:] + first_word\n",
    "print(word)\n",
    "print(swapped)"
   ]
  },
  {
   "cell_type": "markdown",
   "id": "cfedb9fd-396a-4f99-a0b2-f5da73aec5c4",
   "metadata": {},
   "source": [
    "6. Write a program that asks the user to input his name and print its initials. Assuming that the user always types first name, middle name and last name and does not include any unnecessary spaces. For example, if the user enters Ajay Kumar Garg the program should display A. K. G. Note:Don't use split() method\n"
   ]
  },
  {
   "cell_type": "code",
   "execution_count": 19,
   "id": "98bb1015-197f-4d04-bf32-908adf6e2c2d",
   "metadata": {},
   "outputs": [
    {
     "name": "stdin",
     "output_type": "stream",
     "text": [
      "Enter Any name:  Sunain khan\n"
     ]
    },
    {
     "name": "stdout",
     "output_type": "stream",
     "text": [
      "S.k."
     ]
    }
   ],
   "source": [
    "name = input(\"Enter Any name: \")\n",
    "print(name[0],end = \".\")\n",
    "for i in range(len(name)):\n",
    "    if name[i] == \" \":\n",
    "        print(name[i+1], end=\".\")\n"
   ]
  },
  {
   "cell_type": "markdown",
   "id": "505ec773-bb44-4fda-a63c-a2a10255a940",
   "metadata": {},
   "source": [
    "7. A palindrome is a string that reads the same backward as forward. For example, the words dad, madam and radar are all palindromes. Write a programs that determines whether the string is a palindrome. Note: do not use reverse() method\n"
   ]
  },
  {
   "cell_type": "code",
   "execution_count": 28,
   "id": "989836a3-5e59-4588-b3d6-d14cdbe133e1",
   "metadata": {},
   "outputs": [
    {
     "name": "stdin",
     "output_type": "stream",
     "text": [
      "Enter any name:  DAD\n"
     ]
    },
    {
     "name": "stdout",
     "output_type": "stream",
     "text": [
      "This string is palindrome\n"
     ]
    }
   ],
   "source": [
    "name = input(\"Enter any name: \")\n",
    "reverse_name = name[::-1]\n",
    "if name == reverse_name:\n",
    "    print(\"This string is palindrome\")\n",
    "else:\n",
    "    print(\"This is a normal word\")"
   ]
  },
  {
   "cell_type": "markdown",
   "id": "3bf405dd-3031-4afd-b599-9c507ac2d484",
   "metadata": {},
   "source": [
    "8. Write a program that display following output: SHIFT HIFTS IFTSH FTSHI TSHIF SHIFT\n"
   ]
  },
  {
   "cell_type": "code",
   "execution_count": 46,
   "id": "fef060cb-5743-46dc-bedd-4cc12a755279",
   "metadata": {},
   "outputs": [
    {
     "name": "stdin",
     "output_type": "stream",
     "text": [
      "Enter any name:  Khan\n"
     ]
    },
    {
     "name": "stdout",
     "output_type": "stream",
     "text": [
      "Khan\n",
      "hanK\n",
      "anKh\n",
      "nKha\n"
     ]
    }
   ],
   "source": [
    "name = input(\"Enter any name: \")\n",
    "for c in range(len(name)):\n",
    "    output = name[c::] + name[:c]\n",
    "    print(output)"
   ]
  },
  {
   "cell_type": "markdown",
   "id": "e593176b-589e-497c-ae35-7a3d1526bca4",
   "metadata": {},
   "source": [
    "9. Write a program in python that accepts a string to setup a passwords. Your entered password must meet the following requirements: The password must be at least eight characters long. It must contain at least one uppercase letter. It must contain at least one lowercase letter. It must contain at least one numeric digit. Your program should should perform this validation.\n"
   ]
  },
  {
   "cell_type": "code",
   "execution_count": 60,
   "id": "ed36aebe-96a1-48ca-a027-d69fab9f7f2f",
   "metadata": {},
   "outputs": [
    {
     "name": "stdin",
     "output_type": "stream",
     "text": [
      "Enter your password:  Sumkds32\n"
     ]
    },
    {
     "name": "stdout",
     "output_type": "stream",
     "text": [
      "Password is valid\n"
     ]
    }
   ],
   "source": [
    "password = input(\"Enter your password: \")\n",
    "has_upper = False\n",
    "has_lower = False\n",
    "has_digit = False\n",
    "\n",
    "for char in password:\n",
    "    if char.isupper():\n",
    "        has_upper = True\n",
    "    elif char.islower():\n",
    "        has_lower = True\n",
    "    elif char.isdigit():\n",
    "        has_digit = True\n",
    "\n",
    "if has_upper and has_lower and has_digit and len(password) >= 8:\n",
    "    print(\"Password is valid\")\n",
    "else:\n",
    "    print(\"Password is invalid\")\n"
   ]
  },
  {
   "cell_type": "code",
   "execution_count": null,
   "id": "23820c2d-2684-4ea1-96ae-416d85fd101e",
   "metadata": {},
   "outputs": [],
   "source": []
  }
 ],
 "metadata": {
  "kernelspec": {
   "display_name": "Python 3 (ipykernel)",
   "language": "python",
   "name": "python3"
  },
  "language_info": {
   "codemirror_mode": {
    "name": "ipython",
    "version": 3
   },
   "file_extension": ".py",
   "mimetype": "text/x-python",
   "name": "python",
   "nbconvert_exporter": "python",
   "pygments_lexer": "ipython3",
   "version": "3.13.5"
  }
 },
 "nbformat": 4,
 "nbformat_minor": 5
}
