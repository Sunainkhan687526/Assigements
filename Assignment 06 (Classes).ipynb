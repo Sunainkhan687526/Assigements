{
 "cells": [
  {
   "cell_type": "markdown",
   "id": "e6cf9333-4cab-4066-ae9f-c59ba4ad1e13",
   "metadata": {},
   "source": [
    "# Classes Assigment"
   ]
  },
  {
   "cell_type": "markdown",
   "id": "013ebde6-6d87-44c3-881d-e8acee8a5e07",
   "metadata": {},
   "source": [
    "1. Write a Python program to create a class representing a Circle. Include methods to calculate its area and perimeter.\n"
   ]
  },
  {
   "cell_type": "code",
   "execution_count": 8,
   "id": "09d7d971-b9b6-4797-ad6d-0aeacf89f365",
   "metadata": {},
   "outputs": [
    {
     "name": "stdin",
     "output_type": "stream",
     "text": [
      "Enter Any Number 10\n"
     ]
    },
    {
     "name": "stdout",
     "output_type": "stream",
     "text": [
      "314.0\n",
      "62.8\n"
     ]
    }
   ],
   "source": [
    "class circle():\n",
    "\n",
    "    def __init__(self, radius):\n",
    "        self.radius = radius\n",
    "\n",
    "    def area(self):\n",
    "        pi = 3.14\n",
    "        return pi * (radius* radius)\n",
    "\n",
    "    def perameter(self):\n",
    "        pi = 3.14\n",
    "        \n",
    "        return 2 * pi * radius\n",
    "\n",
    "radius = int(input(\"Enter Any Number\"))\n",
    "circle= circle(radius)\n",
    "print(circle.area())\n",
    "print(round(circle.perameter(), 2))"
   ]
  },
  {
   "cell_type": "markdown",
   "id": "4c5677e2-eebf-4329-b483-e44419da2511",
   "metadata": {},
   "source": [
    "2. Write a Python program to create a person class. Include attributes like name, country and date of birth. Implement a method to determine the person's age."
   ]
  },
  {
   "cell_type": "code",
   "execution_count": 8,
   "id": "7a20820b-1d2f-4a01-bcd0-b2cba8d472d1",
   "metadata": {},
   "outputs": [
    {
     "name": "stdin",
     "output_type": "stream",
     "text": [
      "Enter Your Name?  Sunain khan\n",
      "Where you live?  Pakistan\n",
      "Enter Your DOB Year 2004\n"
     ]
    },
    {
     "name": "stdout",
     "output_type": "stream",
     "text": [
      "Your Name Is Sunain khan and your age is 21 you live in Pakistan. \n"
     ]
    }
   ],
   "source": [
    "from datetime import date\n",
    "class person():\n",
    "    def __init__(self, name, country, DOB):\n",
    "        self.name = name\n",
    "        self.country = country\n",
    "        self.DOB = DOB\n",
    "\n",
    "    def age(self):\n",
    "        today = date.today()\n",
    "        td_year = today.year\n",
    "        age = td_year - DOB\n",
    "        print(f'Your Name Is {self.name} and your age is {age} you live in {self.country}. ')\n",
    "\n",
    "name = input(\"Enter Your Name? \")\n",
    "country = input(\"Where you live? \")\n",
    "DOB = int(input('Enter Your DOB Year'))\n",
    "ps = person( name, country, DOB)\n",
    "ps.age()"
   ]
  },
  {
   "cell_type": "markdown",
   "id": "e2f1f029-e47f-4101-b05a-82c61d956d0e",
   "metadata": {},
   "source": [
    "3. Write a Python program to create a calculator class. Include methods for basic arithmetic operations.\n"
   ]
  },
  {
   "cell_type": "code",
   "execution_count": 15,
   "id": "d1c7c68f-0edb-4dc5-847f-11d4ec4aa0ec",
   "metadata": {},
   "outputs": [
    {
     "name": "stdin",
     "output_type": "stream",
     "text": [
      "Enter any number 3\n",
      "Enter any Number 3\n",
      "Input what to do for this number %\n"
     ]
    },
    {
     "data": {
      "text/plain": [
       "\"This operator does'nt add in this calculator\""
      ]
     },
     "execution_count": 15,
     "metadata": {},
     "output_type": "execute_result"
    }
   ],
   "source": [
    "class calculator():\n",
    "    def __init__(self, a ,b, sign):\n",
    "        self.a = a\n",
    "        self.b = b\n",
    "        self.sign = sign\n",
    "\n",
    "    def calculate(self):\n",
    "        if sign == \"+\" :\n",
    "            return a + b\n",
    "        elif sign == \"-\":\n",
    "            return a - b\n",
    "        elif sign == \"*\":\n",
    "            return a * b\n",
    "        elif sign == \"/\" :\n",
    "            return a / b\n",
    "        else:\n",
    "            return \"This operator does'nt add in this calculator\"\n",
    "\n",
    "a = int(input(\"Enter any number\"))\n",
    "b = int(input(\"Enter any Number\"))\n",
    "\n",
    "sign = input(\"Input what to do for this number\")\n",
    "calculator = calculator(a, b ,sign)\n",
    "\n",
    "calculator.calculate()"
   ]
  },
  {
   "cell_type": "code",
   "execution_count": null,
   "id": "38e8bc78-6a46-4247-9944-6a02749795cf",
   "metadata": {},
   "outputs": [],
   "source": []
  },
  {
   "cell_type": "code",
   "execution_count": null,
   "id": "051af7b6-93a0-4530-8f7e-37aa968a6bc0",
   "metadata": {},
   "outputs": [],
   "source": []
  }
 ],
 "metadata": {
  "kernelspec": {
   "display_name": "Python 3 (ipykernel)",
   "language": "python",
   "name": "python3"
  },
  "language_info": {
   "codemirror_mode": {
    "name": "ipython",
    "version": 3
   },
   "file_extension": ".py",
   "mimetype": "text/x-python",
   "name": "python",
   "nbconvert_exporter": "python",
   "pygments_lexer": "ipython3",
   "version": "3.13.5"
  }
 },
 "nbformat": 4,
 "nbformat_minor": 5
}
