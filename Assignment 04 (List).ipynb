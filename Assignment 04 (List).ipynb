{
 "cells": [
  {
   "cell_type": "markdown",
   "id": "83f68550-17d0-4118-9058-350a8337fc14",
   "metadata": {},
   "source": [
    "## Assigment No 4: (List)"
   ]
  },
  {
   "cell_type": "markdown",
   "id": "b203a3ce-7b09-422b-aa03-bba266ae0e56",
   "metadata": {},
   "source": [
    "1. Write a program that accepts a list from user and print the alternate element of list."
   ]
  },
  {
   "cell_type": "code",
   "execution_count": 8,
   "id": "d70b1ee4-3c00-45d9-8786-76803d841ef0",
   "metadata": {},
   "outputs": [
    {
     "name": "stdin",
     "output_type": "stream",
     "text": [
      "Enter some words I can make the list:  I'm sunain khan this is my new code\n"
     ]
    },
    {
     "name": "stdout",
     "output_type": "stream",
     "text": [
      "Alternative list items\n",
      "I'm\n",
      "khan\n",
      "is\n",
      "new\n"
     ]
    }
   ],
   "source": [
    "user_input = input(\"Enter some words I can make the list: \")\n",
    "user_list = user_input.split()\n",
    "print(\"Alternative list items\")\n",
    "\n",
    "for i in range(0, len(user_list), 2):\n",
    "    print(user_list[i])"
   ]
  },
  {
   "cell_type": "markdown",
   "id": "5b548c58-cf39-4f3d-b380-256552a744bb",
   "metadata": {},
   "source": [
    "2. Write a program that accepts a list from user. Your program should reverse the content of list and \n",
    "display it. Do not use reverse() method. "
   ]
  },
  {
   "cell_type": "code",
   "execution_count": 9,
   "id": "e8752f41-40a7-49c6-8ebe-f218f7bfc9f4",
   "metadata": {},
   "outputs": [
    {
     "name": "stdin",
     "output_type": "stream",
     "text": [
      "Enter some words I can make the list:  1 2 3 4 5 6 7\n"
     ]
    },
    {
     "name": "stdout",
     "output_type": "stream",
     "text": [
      "Reverse list method ['7', '6', '5', '4', '3', '2', '1']\n"
     ]
    }
   ],
   "source": [
    "user_input = input(\"Enter some words I can make the list: \")\n",
    "user_list = user_input.split()[::-1]\n",
    "print(\"Reverse list method\", user_list)"
   ]
  },
  {
   "cell_type": "markdown",
   "id": "e563d464-fafe-40aa-851a-277ee902af77",
   "metadata": {},
   "source": [
    " 3. Find and display the largest number of a list without using built-in function max(). Your program \n",
    "should ask the user to input values in list from keyboard. "
   ]
  },
  {
   "cell_type": "code",
   "execution_count": 26,
   "id": "aedc726e-a74c-4b77-81ae-ffc5569aa869",
   "metadata": {},
   "outputs": [
    {
     "name": "stdin",
     "output_type": "stream",
     "text": [
      "Enter some num I can make the list:  3 6 12 9\n"
     ]
    },
    {
     "name": "stdout",
     "output_type": "stream",
     "text": [
      "the largest number is  12\n"
     ]
    }
   ],
   "source": [
    "user_input = input(\"Enter some num I can make the list: \")\n",
    "user_list = list(map(int, user_input.split()))\n",
    "largest = user_list[0]\n",
    "for num in user_list:\n",
    "    if  num > largest:\n",
    "        largest = num\n",
    "\n",
    "print(\"the largest number is \", largest)"
   ]
  },
  {
   "cell_type": "markdown",
   "id": "643e279d-285f-4aed-b79a-3e9eb81a0ae9",
   "metadata": {},
   "source": [
    "4. Write a program that rotates the element of a list so that the element at the first index moves to the second index, the element in the second index moves to the third index, etc., and the element in the last index moves to the first index.\n"
   ]
  },
  {
   "cell_type": "code",
   "execution_count": 29,
   "id": "48e9b4e9-4237-4308-9595-6692d110a652",
   "metadata": {},
   "outputs": [
    {
     "name": "stdin",
     "output_type": "stream",
     "text": [
      "Enter:  1 2 3 4\n"
     ]
    },
    {
     "name": "stdout",
     "output_type": "stream",
     "text": [
      "['4', '1', '2', '3']\n"
     ]
    }
   ],
   "source": [
    "User_input = input(\"Enter: \")\n",
    "\n",
    "for i in user_list:\n",
    "    user_list =  User_input.split()\n",
    "    move = [user_list[-1]] + user_list[:-1]\n",
    "print(move)"
   ]
  },
  {
   "cell_type": "markdown",
   "id": "a546db88-8863-4be6-a8f8-a65259d60ca5",
   "metadata": {},
   "source": [
    "5. Write a program that input a string and ask user to delete a given word from a string.\n"
   ]
  },
  {
   "cell_type": "code",
   "execution_count": 39,
   "id": "22d26d61-0167-482b-9c2e-f121240db879",
   "metadata": {},
   "outputs": [
    {
     "name": "stdin",
     "output_type": "stream",
     "text": [
      "ENter Any Sentence:  My name is khan\n",
      "Enter Which Word You Want to Remove:  is\n"
     ]
    },
    {
     "name": "stdout",
     "output_type": "stream",
     "text": [
      "My name khan\n"
     ]
    }
   ],
   "source": [
    "sentence = input(\"ENter Any Sentence: \")\n",
    "word = input(\"Enter Which Word You Want to Remove: \")\n",
    "tense = sentence.split()\n",
    "if word in tense:\n",
    "    tense.remove(word)\n",
    "    new_tens = ' '.join(tense)\n",
    "    print(new_tens)"
   ]
  },
  {
   "cell_type": "markdown",
   "id": "7585a216-7f67-4133-98d2-9bc8d4855da9",
   "metadata": {},
   "source": [
    "6. Write a program that reads a string from the user containing a date in the form mm/dd/yyyy. It should print the date in the form March 12, 2021.\n",
    "\n"
   ]
  },
  {
   "cell_type": "code",
   "execution_count": 40,
   "id": "6746110e-e330-401e-9ca2-8d969fb3eb12",
   "metadata": {},
   "outputs": [
    {
     "name": "stdin",
     "output_type": "stream",
     "text": [
      "Enter date (mm/dd/yyyy):  09/23/2004\n"
     ]
    },
    {
     "name": "stdout",
     "output_type": "stream",
     "text": [
      "September 23, 2004\n"
     ]
    }
   ],
   "source": [
    "date_input = input(\"Enter date (mm/dd/yyyy): \")\n",
    "\n",
    "month, day, year = date_input.split('/')\n",
    "\n",
    "months = {\n",
    "    '01': 'January', '02': 'February', '03': 'March',\n",
    "    '04': 'April',   '05': 'May',      '06': 'June',\n",
    "    '07': 'July',    '08': 'August',   '09': 'September',\n",
    "    '10': 'October', '11': 'November', '12': 'December'\n",
    "}\n",
    "\n",
    "print(f\"{months[month]} {int(day)}, {year}\")\n"
   ]
  },
  {
   "cell_type": "markdown",
   "id": "1bbae4f3-942f-4850-addf-c5db6ab23421",
   "metadata": {},
   "source": [
    "7. Write a program with a function that accepts a string from keyboard and create a new string after converting character of each word capitalized. For instance, if the sentence is \"stop and smell the roses.\" the output should be \"Stop And Smell The Roses\".\n"
   ]
  },
  {
   "cell_type": "code",
   "execution_count": 52,
   "id": "9d331afb-16cd-422b-91b0-81fdc2e6869f",
   "metadata": {},
   "outputs": [
    {
     "name": "stdin",
     "output_type": "stream",
     "text": [
      "Enter any sentence:  My name is sunain\n"
     ]
    },
    {
     "name": "stdout",
     "output_type": "stream",
     "text": [
      "My Name Is Sunain\n"
     ]
    }
   ],
   "source": [
    "user_input = input(\"Enter any sentence: \")\n",
    "\n",
    "def capital_first_word(user_input):\n",
    "    words = user_input.split()\n",
    "    capital = [word.capitalize() for word in words]\n",
    "    output = ' '.join(capital)\n",
    "    return output\n",
    "result = capital_first_word(user_input)\n",
    "print(result)"
   ]
  },
  {
   "cell_type": "markdown",
   "id": "c13585db-f211-48f8-8cb3-2e7eeadbc7ec",
   "metadata": {},
   "source": [
    "8. Find the sum of each row of matrix of size m x n. For example for the following matrix output will be like this :\n",
    "  -  2 11 7 12\n",
    "  -  5 2 9 15\n",
    "  -  8 3 10 42\n",
    "\n",
    "Sum of row 1 = 32 Sum of row 2 = 31 Sum of row 3 = 63"
   ]
  },
  {
   "cell_type": "code",
   "execution_count": 57,
   "id": "b68b81a9-4bbf-41d3-b23a-b473c10dbdb7",
   "metadata": {},
   "outputs": [
    {
     "name": "stdin",
     "output_type": "stream",
     "text": [
      "Enter number of rows:  5\n",
      "Enter number of columns:  5\n",
      "Enter 5 numbers for row 1, separated by space:  6\n",
      "Enter 5 numbers for row 2, separated by space:  6\n",
      "Enter 5 numbers for row 3, separated by space:  4\n",
      "Enter 5 numbers for row 4, separated by space:  3\n",
      "Enter 5 numbers for row 5, separated by space:  2\n"
     ]
    },
    {
     "name": "stdout",
     "output_type": "stream",
     "text": [
      "Sum of row 1 = 6\n",
      "Sum of row 2 = 6\n",
      "Sum of row 3 = 4\n",
      "Sum of row 4 = 3\n",
      "Sum of row 5 = 2\n"
     ]
    }
   ],
   "source": [
    "m = int(input(\"Enter number of rows: \"))\n",
    "n = int(input(\"Enter number of columns: \"))\n",
    "\n",
    "matrix = []\n",
    "\n",
    "for i in range(m):\n",
    "    row_input = input(f\"Enter {n} numbers for row {i+1}, separated by space: \")\n",
    "    row = list(map(int, row_input.split()))\n",
    "    matrix.append(row)\n",
    "\n",
    "for i in range(m):\n",
    "    row_sum = sum(matrix[i])\n",
    "    print(f\"Sum of row {i+1} = {row_sum}\")\n"
   ]
  },
  {
   "cell_type": "markdown",
   "id": "128bbd9d-4e66-4d15-9fef-ba2f4f8f04ee",
   "metadata": {},
   "source": [
    "9. Write a program to add two matrices of size n x m.\n"
   ]
  },
  {
   "cell_type": "code",
   "execution_count": 1,
   "id": "99663147-4a6e-41ed-ac2f-529f15e116dd",
   "metadata": {},
   "outputs": [
    {
     "name": "stdin",
     "output_type": "stream",
     "text": [
      "Enter number of rows:  4\n",
      "Enter number of columns:  3\n"
     ]
    },
    {
     "name": "stdout",
     "output_type": "stream",
     "text": [
      "\n",
      "Enter elements for Matrix A:\n"
     ]
    },
    {
     "name": "stdin",
     "output_type": "stream",
     "text": [
      "A[1][1] =  2\n",
      "A[1][2] =  3\n",
      "A[1][3] =  2\n",
      "A[2][1] =  3\n",
      "A[2][2] =  2\n",
      "A[2][3] =  3\n",
      "A[3][1] =  2\n",
      "A[3][2] =  3\n",
      "A[3][3] =  2\n",
      "A[4][1] =  3\n",
      "A[4][2] =  2\n",
      "A[4][3] =  3\n"
     ]
    },
    {
     "name": "stdout",
     "output_type": "stream",
     "text": [
      "\n",
      "Enter elements for Matrix B:\n"
     ]
    },
    {
     "name": "stdin",
     "output_type": "stream",
     "text": [
      "B[1][1] =  5\n",
      "B[1][2] =  4\n",
      "B[1][3] =  5\n",
      "B[2][1] =  4\n",
      "B[2][2] =  2\n",
      "B[2][3] =  4\n",
      "B[3][1] =  3\n",
      "B[3][2] =  4\n",
      "B[3][3] =  2\n",
      "B[4][1] =  5\n",
      "B[4][2] =  3\n",
      "B[4][3] =  2\n"
     ]
    }
   ],
   "source": [
    "rows = int(input(\"Enter number of rows: \"))\n",
    "cols = int(input(\"Enter number of columns: \"))\n",
    "\n",
    "print(\"\\nEnter elements for Matrix A:\")\n",
    "matrix_a = []\n",
    "for i in range(rows):\n",
    "    row = []\n",
    "    for j in range(cols):\n",
    "        num = int(input(f\"A[{i+1}][{j+1}] = \"))\n",
    "        row.append(num)\n",
    "    matrix_a.append(row)\n",
    "\n",
    "print(\"\\nEnter elements for Matrix B:\")\n",
    "matrix_b = []\n",
    "for i in range(rows):\n",
    "    row = []\n",
    "    for j in range(cols):\n",
    "        num = int(input(f\"B[{i+1}][{j+1}] = \"))\n",
    "        row.append(num)\n",
    "    matrix_b.append(row)\n",
    "\n",
    "result = []\n"
   ]
  },
  {
   "cell_type": "markdown",
   "id": "c6e56b39-5489-42b7-9633-24b15e207747",
   "metadata": {},
   "source": [
    "10. Write a program to multiply two matrices\n"
   ]
  },
  {
   "cell_type": "code",
   "execution_count": 1,
   "id": "06d273a3-a344-4068-a793-f49952412c9f",
   "metadata": {},
   "outputs": [
    {
     "name": "stdin",
     "output_type": "stream",
     "text": [
      "Enter number of rows for Matrix A:  2\n",
      "Enter number of columns for Matrix A:  3\n",
      "Enter number of rows for Matrix B:  4\n",
      "Enter number of columns for Matrix B:  3\n"
     ]
    },
    {
     "name": "stdout",
     "output_type": "stream",
     "text": [
      "❌ Matrix multiplication not possible. Columns of A must equal rows of B.\n",
      "\n",
      "Enter elements of Matrix A:\n"
     ]
    },
    {
     "name": "stdin",
     "output_type": "stream",
     "text": [
      "A[1][1]:  2\n",
      "A[1][2]:  5\n",
      "A[1][3]:  3\n",
      "A[2][1]:  4\n",
      "A[2][2]:  3\n",
      "A[2][3]:  4\n"
     ]
    },
    {
     "name": "stdout",
     "output_type": "stream",
     "text": [
      "\n",
      "Enter elements of Matrix B:\n"
     ]
    },
    {
     "name": "stdin",
     "output_type": "stream",
     "text": [
      "B[1][1]:  3\n",
      "B[1][2]:  2\n",
      "B[1][3]:  2\n",
      "B[2][1]:  1\n",
      "B[2][2]:  2\n",
      "B[2][3]:  5\n",
      "B[3][1]:  4\n",
      "B[3][2]:  3\n",
      "B[3][3]:  3\n",
      "B[4][1]:  4\n",
      "B[4][2]:  2\n",
      "B[4][3]:  3\n"
     ]
    },
    {
     "name": "stdout",
     "output_type": "stream",
     "text": [
      "\n",
      "✅ Result of Matrix Multiplication (A x B):\n",
      "23 23 38\n",
      "31 26 35\n"
     ]
    }
   ],
   "source": [
    "##### Step 1: Take sizes of the matrices\n",
    "rows_A = int(input(\"Enter number of rows for Matrix A: \"))\n",
    "cols_A = int(input(\"Enter number of columns for Matrix A: \"))\n",
    "\n",
    "rows_B = int(input(\"Enter number of rows for Matrix B: \"))\n",
    "cols_B = int(input(\"Enter number of columns for Matrix B: \"))\n",
    "\n",
    "# Step 2: Check if multiplication is possible\n",
    "if cols_A != rows_B:\n",
    "    print(\"❌ Matrix multiplication not possible. Columns of A must equal rows of B.\")\n",
    "    exit()\n",
    "\n",
    "# Step 3: Take input for Matrix A\n",
    "print(\"\\nEnter elements of Matrix A:\")\n",
    "A = []\n",
    "for i in range(rows_A):\n",
    "    row = []\n",
    "    for j in range(cols_A):\n",
    "        num = int(input(f\"A[{i+1}][{j+1}]: \"))\n",
    "        row.append(num)\n",
    "    A.append(row)\n",
    "\n",
    "# Step 4: Take input for Matrix B\n",
    "print(\"\\nEnter elements of Matrix B:\")\n",
    "B = []\n",
    "for i in range(rows_B):\n",
    "    row = []\n",
    "    for j in range(cols_B):\n",
    "        num = int(input(f\"B[{i+1}][{j+1}]: \"))\n",
    "        row.append(num)\n",
    "    B.append(row)\n",
    "\n",
    "# Step 5: Multiply the matrices\n",
    "result = []\n",
    "for i in range(rows_A):\n",
    "    row = []\n",
    "    for j in range(cols_B):\n",
    "        sum = 0\n",
    "        for k in range(cols_A):  # or rows_B\n",
    "            sum += A[i][k] * B[k][j]\n",
    "        row.append(sum)\n",
    "    result.append(row)\n",
    "\n",
    "# Step 6: Print the result matrix\n",
    "print(\"\\n✅ Result of Matrix Multiplication (A x B):\")\n",
    "for row in result:\n",
    "    print(*row)\n"
   ]
  },
  {
   "cell_type": "code",
   "execution_count": null,
   "id": "2cd6ac5c-a959-411a-a692-2393436d9304",
   "metadata": {},
   "outputs": [],
   "source": []
  }
 ],
 "metadata": {
  "kernelspec": {
   "display_name": "Python 3 (ipykernel)",
   "language": "python",
   "name": "python3"
  },
  "language_info": {
   "codemirror_mode": {
    "name": "ipython",
    "version": 3
   },
   "file_extension": ".py",
   "mimetype": "text/x-python",
   "name": "python",
   "nbconvert_exporter": "python",
   "pygments_lexer": "ipython3",
   "version": "3.13.5"
  }
 },
 "nbformat": 4,
 "nbformat_minor": 5
}
