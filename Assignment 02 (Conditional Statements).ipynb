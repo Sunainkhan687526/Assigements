{
 "cells": [
  {
   "cell_type": "markdown",
   "metadata": {},
   "source": [
    "# Part -2 Python Functions (Conditional Statement)"
   ]
  },
  {
   "cell_type": "markdown",
   "metadata": {},
   "source": [
    "1) A company decided to give bonus of 5% to employee if his/her year of service is more than 5 years.\n",
    "Ask user for their salary and year of service and print the net bonus amount."
   ]
  },
  {
   "cell_type": "code",
   "execution_count": 1,
   "metadata": {},
   "outputs": [
    {
     "name": "stdin",
     "output_type": "stream",
     "text": [
      "Enter Your Salary:  20000\n",
      "Enter Your service of Year:  6\n"
     ]
    },
    {
     "name": "stdout",
     "output_type": "stream",
     "text": [
      "Apki salary m increment ho gia h 1000.0\n"
     ]
    }
   ],
   "source": [
    "salary = float(input(\"Enter Your Salary: \"))\n",
    "service_year = float(input(\"Enter Your service of Year: \"))\n",
    "if service_year >= 5:\n",
    "    print(\"Apki salary m increment ho gia h\", 0.05 * salary)\n",
    "else:\n",
    "    print(\"Ap is ka lia eligible nhi hen\")    "
   ]
  },
  {
   "cell_type": "markdown",
   "metadata": {},
   "source": [
    "\n",
    "2) Write a program to check whether a person is eligible for voting or not. (accept age from user) if age is greater than 17 eligible otherwise not eligible"
   ]
  },
  {
   "cell_type": "code",
   "execution_count": 2,
   "metadata": {},
   "outputs": [
    {
     "name": "stdin",
     "output_type": "stream",
     "text": [
      "Enter Your Name Sunain Khan\n",
      "Enter Your Age 21\n"
     ]
    },
    {
     "name": "stdout",
     "output_type": "stream",
     "text": [
      "Sunain Khan You're eligible for voting\n"
     ]
    }
   ],
   "source": [
    "name = input(\"Enter Your Name\")\n",
    "age = int(input(\"Enter Your Age\"))\n",
    "if age > 17:\n",
    "    print(name, \"You're eligible for voting\")\n",
    "else:\n",
    "    print(name, \"You are not eligible for voting\")"
   ]
  },
  {
   "cell_type": "markdown",
   "metadata": {},
   "source": [
    "\n",
    "3) Write a program to check whether a number entered by user is even or odd."
   ]
  },
  {
   "cell_type": "code",
   "execution_count": 3,
   "metadata": {},
   "outputs": [
    {
     "name": "stdin",
     "output_type": "stream",
     "text": [
      "Enter any Number:  43\n"
     ]
    },
    {
     "name": "stdout",
     "output_type": "stream",
     "text": [
      "43  is a odd number\n"
     ]
    }
   ],
   "source": [
    "num = int(input(\"Enter any Number: \"))\n",
    "if num % 2 == 0:\n",
    "    print(num, \" is a even number\")\n",
    "else:\n",
    "    print(num, \" is a odd number\")"
   ]
  },
  {
   "cell_type": "markdown",
   "metadata": {},
   "source": [
    "4) Write a program to check whether a number is divisible by 7 or not.\n",
    "Show Answer"
   ]
  },
  {
   "cell_type": "code",
   "execution_count": 4,
   "metadata": {},
   "outputs": [
    {
     "name": "stdin",
     "output_type": "stream",
     "text": [
      "Enter Any number 22\n"
     ]
    },
    {
     "name": "stdout",
     "output_type": "stream",
     "text": [
      "22 This is not divisible by zero\n"
     ]
    }
   ],
   "source": [
    "num = int(input(\"Enter Any number\"))\n",
    "if num % 7 == 0:\n",
    "    print(num, \" is divisible by zero\")\n",
    "else:\n",
    "    print(num, \"This is not divisible by zero\")"
   ]
  },
  {
   "cell_type": "markdown",
   "metadata": {},
   "source": [
    "5) Write a program to display \n",
    "\"Hello\" if a number entered by user is a multiple of five , otherwise print \"Bye\"."
   ]
  },
  {
   "cell_type": "code",
   "execution_count": 5,
   "metadata": {},
   "outputs": [
    {
     "name": "stdin",
     "output_type": "stream",
     "text": [
      "Enter any number 4\n"
     ]
    },
    {
     "name": "stdout",
     "output_type": "stream",
     "text": [
      "Bye\n"
     ]
    }
   ],
   "source": [
    "num = int(input(\"Enter any number\"))\n",
    "if num % 5 == 0:\n",
    "    print(\"Hello\")\n",
    "else:\n",
    "    print(\"Bye\")"
   ]
  },
  {
   "cell_type": "markdown",
   "metadata": {},
   "source": [
    "7) Write a program to display the last digit of a number.\n"
   ]
  },
  {
   "cell_type": "code",
   "execution_count": 6,
   "metadata": {},
   "outputs": [
    {
     "name": "stdin",
     "output_type": "stream",
     "text": [
      "Input any number 43\n"
     ]
    },
    {
     "name": "stdout",
     "output_type": "stream",
     "text": [
      "Your last digit is  3\n"
     ]
    }
   ],
   "source": [
    "num = int(input(\"Input any number\"))\n",
    "last_digit = abs(num) % 10\n",
    "print(\"Your last digit is \", last_digit)"
   ]
  },
  {
   "cell_type": "markdown",
   "metadata": {},
   "source": [
    "9) Take values of length and breadth of a rectangle from user and print if it is square or rectangle."
   ]
  },
  {
   "cell_type": "code",
   "execution_count": 7,
   "metadata": {},
   "outputs": [
    {
     "name": "stdin",
     "output_type": "stream",
     "text": [
      "Enter length of the box:  2323\n",
      "Enter width of the box  23\n"
     ]
    },
    {
     "name": "stdout",
     "output_type": "stream",
     "text": [
      "Your box shape is rectangular\n"
     ]
    }
   ],
   "source": [
    "length = float(input(\"Enter length of the box: \"))\n",
    "width = float(input(\"Enter width of the box \"))\n",
    "if length == width:\n",
    "    print(\"Your box shape is square\")\n",
    "else:\n",
    "    print(\"Your box shape is rectangular\")"
   ]
  },
  {
   "cell_type": "markdown",
   "metadata": {},
   "source": [
    "10) Take two int values from user and print greatest among them."
   ]
  },
  {
   "cell_type": "code",
   "execution_count": 8,
   "metadata": {},
   "outputs": [
    {
     "name": "stdin",
     "output_type": "stream",
     "text": [
      "Enter any value 24\n",
      "Enter any value 3\n"
     ]
    },
    {
     "name": "stdout",
     "output_type": "stream",
     "text": [
      "24 is a greater value\n"
     ]
    }
   ],
   "source": [
    "a = int(input(\"Enter any value\"))\n",
    "b = int(input(\"Enter any value\"))\n",
    "if a > b:\n",
    "    print(a, \"is a greater value\")\n",
    "elif b > a:\n",
    "    print(b, \"is a greater value\")\n",
    "elif a == b:\n",
    "    print(\"Both are equal\")"
   ]
  },
  {
   "cell_type": "markdown",
   "metadata": {},
   "source": [
    "11) A shop will give discount of 10% if the cost of purchased quantity is more than 1000.\n",
    "Ask user for quantity\n",
    "Suppose, one unit will cost 100.\n",
    "Judge and print total cost for user."
   ]
  },
  {
   "cell_type": "code",
   "execution_count": 9,
   "metadata": {},
   "outputs": [
    {
     "name": "stdin",
     "output_type": "stream",
     "text": [
      "How many units you purchased 24\n"
     ]
    },
    {
     "name": "stdout",
     "output_type": "stream",
     "text": [
      "Congrates, You got 10% discount Your you just pay -2160.0\n"
     ]
    }
   ],
   "source": [
    "unit = 100\n",
    "purchased_unit = int(input(\"How many units you purchased\"))\n",
    "total = purchased_unit * unit\n",
    "if purchased_unit > 10:\n",
    "    print(\"Congrates, You got 10% discount Your you just pay\", (0.10 * total) - total )"
   ]
  },
  {
   "cell_type": "markdown",
   "metadata": {},
   "source": [
    "12) A school has following rules for grading system:\n",
    "\n",
    "a. Below 25 - F\n",
    "\n",
    "b. 25 to 45 - E\n",
    "\n",
    "c. 45 to 50 - D\n",
    "\n",
    "d. 50 to 60 - C\n",
    "\n",
    "e. 60 to 80 - B\n",
    "\n",
    "f. Above 80 - A\n",
    "\n",
    "Ask user to enter marks and print the corresponding grade."
   ]
  },
  {
   "cell_type": "code",
   "execution_count": 10,
   "metadata": {},
   "outputs": [
    {
     "name": "stdin",
     "output_type": "stream",
     "text": [
      "Enter your numbers 4\n"
     ]
    },
    {
     "name": "stdout",
     "output_type": "stream",
     "text": [
      "F Grade\n"
     ]
    }
   ],
   "source": [
    "marks = int(input(\"Enter your numbers\"))\n",
    "if marks < 25:\n",
    "    print(\"F Grade\")\n",
    "elif marks >= 25:\n",
    "    print(\"E Grade\")\n",
    "elif marks > 45:\n",
    "    print(\"D\")\n",
    "elif marks > 50: \n",
    "    print(\"C Grade\")\n",
    "elif marks > 60:\n",
    "    print(\"B Grade\")\n",
    "elif marks > 80:\n",
    "    print(\"A Grade\")"
   ]
  },
  {
   "cell_type": "markdown",
   "metadata": {},
   "source": [
    "14)A student will not be allowed to sit in exam if his/her attendence is less than 75%.\n",
    "\n",
    "Take following input from user\n",
    "\n",
    "Number of classes held\n",
    "\n",
    "Number of classes attended.\n",
    "\n",
    "And print\n",
    "\n",
    "percentage of class attended\n",
    "\n",
    "Is student is allowed to sit in exam or not.\n"
   ]
  },
  {
   "cell_type": "code",
   "execution_count": 11,
   "metadata": {},
   "outputs": [
    {
     "name": "stdin",
     "output_type": "stream",
     "text": [
      "Enter number of class held  23\n",
      "Enter number of class attendance  43\n"
     ]
    },
    {
     "name": "stdout",
     "output_type": "stream",
     "text": [
      "186.95652173913044 Is student allowed to sit in exam\n"
     ]
    }
   ],
   "source": [
    "num_of_class_held = int(input(\"Enter number of class held \"))\n",
    "num_of_class_attendance = int(input(\"Enter number of class attendance \"))\n",
    "class_percentage = (num_of_class_attendance / num_of_class_held) * 100\n",
    "if class_percentage >= 75:\n",
    "    print(class_percentage, \"Is student allowed to sit in exam\")\n",
    "else:\n",
    "    print(class_percentage, \"Your are not allowed\")"
   ]
  },
  {
   "cell_type": "markdown",
   "metadata": {},
   "source": [
    "15) Modify the above question to allow student to sit if he/she has medical cause. Ask user if he/she has medical cause or not ( 'Y' or 'N' ) and print accordingly."
   ]
  },
  {
   "cell_type": "code",
   "execution_count": 12,
   "metadata": {},
   "outputs": [
    {
     "name": "stdin",
     "output_type": "stream",
     "text": [
      "Enter your medical cause with the help of 'Y' or 'N':  Y\n"
     ]
    },
    {
     "name": "stdout",
     "output_type": "stream",
     "text": [
      "Allowed\n"
     ]
    }
   ],
   "source": [
    "medical_cause = input(\"Enter your medical cause with the help of 'Y' or 'N': \")\n",
    "if medical_cause == \"Y\":\n",
    "    print(\"Allowed\")\n",
    "elif medical_cause == \"N\":\n",
    "    print(\"Denied\")"
   ]
  },
  {
   "cell_type": "markdown",
   "metadata": {},
   "source": [
    "16) Write a program to check if a year is leap year or not.\n",
    "\n",
    "If a year is divisible by 4 then it is leap year but if the year is century year like 2000, 1900, 2100 then it must be divisible by 400."
   ]
  },
  {
   "cell_type": "code",
   "execution_count": 13,
   "metadata": {},
   "outputs": [
    {
     "name": "stdin",
     "output_type": "stream",
     "text": [
      "Enter Year:  4\n"
     ]
    },
    {
     "name": "stdout",
     "output_type": "stream",
     "text": [
      "this is not \n"
     ]
    }
   ],
   "source": [
    "year = int(input(\"Enter Year: \"))\n",
    "\n",
    "if year % 4 == 0:\n",
    "    if year % 100 == 0:\n",
    "        if year % 400 == 0:\n",
    "            print(\"This is a leap Year\")\n",
    "        else: print(\"this is not \")\n",
    "    else: print(\"this is not \")            \n",
    "else:\n",
    "    print(\"this is not \")\n",
    "    "
   ]
  },
  {
   "cell_type": "markdown",
   "metadata": {},
   "source": [
    "17) Ask user to enter age, gender ( M or F ), marital status ( Y or N ) and then using following rules print their place of service.\n",
    "\n",
    "if employee is female, then she will work only in urban areas.\n",
    "\n",
    "if employee is a male and age is in between 20 to 40 then he may work in anywhere\n",
    "\n",
    "if employee is male and age is in between 40 t0 60 then he will work in urban areas only.\n",
    "\n",
    "And any other input of age should print \"ERROR\""
   ]
  },
  {
   "cell_type": "code",
   "execution_count": 14,
   "metadata": {},
   "outputs": [
    {
     "name": "stdin",
     "output_type": "stream",
     "text": [
      "Enter Your Gender with the help of 'M' Or 'F':  M\n",
      "Enter Your Material Status with the help of 'Y' Or 'N':  Y\n",
      "Enter Your age 21\n"
     ]
    },
    {
     "name": "stdout",
     "output_type": "stream",
     "text": [
      "He may work anywhere\n"
     ]
    }
   ],
   "source": [
    "gender = input(\"Enter Your Gender with the help of 'M' Or 'F': \")\n",
    "m_status = input(\"Enter Your Material Status with the help of 'Y' Or 'N': \")\n",
    "age = int(input(\"Enter Your age\"))\n",
    "if gender == \"F\":\n",
    "    print(\"She will work in urban ares only\")\n",
    "elif gender == \"M\" and age >= 20 and age <= 40:\n",
    "    print(\"He may work anywhere\")\n",
    "elif gender == \"M\" and age > 40 and age <= 60:\n",
    "    print(\"He may work in urban areas only\")\n",
    "else: print(\"ERROR\")"
   ]
  },
  {
   "cell_type": "markdown",
   "metadata": {},
   "source": [
    "6) Write a program to calculate the electricity bill (accept number of unit from user) according to the following criteria :\n",
    "     Unit                                                     Price  \n",
    "uptp 100 units                                             no charge\n",
    "Next 200 units                                              Rs 5 per unit\n",
    "After 200 units                                             Rs 10 per unit\n",
    "(For example if input unit is 350 than total bill amount is Rs.3500\n",
    "(For example if input unit is 97 than total bill amount is Rs.0\n",
    "(For example if input unit is 150 than total bill amount is Rs.750"
   ]
  },
  {
   "cell_type": "markdown",
   "metadata": {},
   "source": [
    "13) Take input of age of 3 people by user and determine oldest and youngest among them."
   ]
  },
  {
   "cell_type": "code",
   "execution_count": 15,
   "metadata": {},
   "outputs": [
    {
     "name": "stdin",
     "output_type": "stream",
     "text": [
      "Enter Your Name Sunain khan\n",
      "Sunain khanEnter Your Age 21\n",
      "Enter Your Name Ahmed\n",
      "AhmedEnter Your Age 22\n",
      "Enter Your Name Ahsan\n",
      "AhsanEnter Your Age 22\n"
     ]
    },
    {
     "name": "stdout",
     "output_type": "stream",
     "text": [
      "small Sunain khan ( age 21 )\n",
      "medium Ahmed ( age 22 )\n",
      "large Ahsan ( age 22 )\n"
     ]
    }
   ],
   "source": [
    "first_person = input(\"Enter Your Name\")\n",
    "f_age = int(input(first_person + \"Enter Your Age\"))\n",
    "second_person = input(\"Enter Your Name\")\n",
    "s_age = int(input(second_person + \"Enter Your Age\"))\n",
    "third_person = input(\"Enter Your Name\")\n",
    "t_age = int(input(third_person +\"Enter Your Age\"))\n",
    "\n",
    "check = [(first_person, f_age), (second_person, s_age), (third_person, t_age)]\n",
    "\n",
    "sort = sorted(check, key=lambda x: x[1])\n",
    "\n",
    "small = sort[0]\n",
    "medium = sort[1]\n",
    "large = sort[2]\n",
    "\n",
    "print(\"small\", small[0],\"( age\", small[1],\")\")\n",
    "print(\"medium\", medium[0],\"( age\", medium[1],\")\")\n",
    "print(\"large\", large[0],\"( age\", large[1],\")\")"
   ]
  }
 ],
 "metadata": {
  "kernelspec": {
   "display_name": "Python 3 (ipykernel)",
   "language": "python",
   "name": "python3"
  },
  "language_info": {
   "codemirror_mode": {
    "name": "ipython",
    "version": 3
   },
   "file_extension": ".py",
   "mimetype": "text/x-python",
   "name": "python",
   "nbconvert_exporter": "python",
   "pygments_lexer": "ipython3",
   "version": "3.13.5"
  }
 },
 "nbformat": 4,
 "nbformat_minor": 4
}
